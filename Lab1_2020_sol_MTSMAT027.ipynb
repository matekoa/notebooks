{
 "cells": [
  {
   "cell_type": "markdown",
   "metadata": {},
   "source": [
    "# Lab 1:  Introduction to Jupyter and Symbolic Math"
   ]
  },
  {
   "cell_type": "markdown",
   "metadata": {},
   "source": [
    "## 1. Background\n",
    "\n",
    "This course includes a set of computer laboratories that explore topics related to signals and systems.  These will be made available to you as the course progresses, and you are expected to engage with the content and produce and submit a set of results related to some defined tasks. Assistance will be provided if required, but it is really expected that you'll work in your own time and at your own pace: it's important right from the start for you to take responsibility for your own learning. You shouldn't be working in groups, but helping one another out on specific issues is fine.\n",
    "\n",
    "The computer labs are based on the Python programming language, and they require a kernel that includes all the standard numerical libraries. The labs have been created as worksheets using the *Jupyter Notebook* system, which works in a browser and allows you to interleave text and Python code snippets that can be run interactively. Jupyter can be installed via a package called *Anaconda* - see the Orientation \"Labs\" lesson on Vula for details.\n",
    "\n",
    "This first lab covers the introduction to Jupyter as well as specific scientific libraries such as NumPy, SymPy and Matplotlib. These packages are instrumental for data visualisation using Python, and will be used throughout the three labs for this course."
   ]
  },
  {
   "cell_type": "markdown",
   "metadata": {},
   "source": [
    "### Basic Jupyter usage\n",
    "\n",
    "A notebook is basically composed of cells.  A cell can contain text (\"markdown\") or code - in this case, Python.  For any cell you can select the content type using the pulldown on the menubar.  A cell can be executed by pressing shift-enter while it is in focus.\n",
    "\n",
    "Below is a cell that creates two \"numpy\" arrays. The values in `x` (i.e. function `x(t)`) are initialised to be a particular function of `t` (i.e. your time variable).  Select it and press shift-enter to run the code in the Python kernel attached to the notebook.  Change the number of points in `t` and press shift-enter again to run, and note the change in output values."
   ]
  },
  {
   "cell_type": "code",
   "execution_count": 15,
   "metadata": {},
   "outputs": [
    {
     "name": "stdout",
     "output_type": "stream",
     "text": [
      "[-1.         -0.70454094  0.06233574  1.00054958  1.77614273  2.18454434\n",
      "  2.25058061  2.21633781  2.42281184  3.14320302  4.44935469  6.17663061\n",
      "  8.00440189  9.6127952  10.83907153]\n"
     ]
    }
   ],
   "source": [
    "import numpy as np # Import numpy for vector computations\n",
    "\n",
    "t = np.linspace(0, 10, 15); # Create a time variable from t = 0 to t = 10 with 10 points in this range\n",
    "x = 0.1*t**2 - np.cos(t); # Create x variable as a function of t\n",
    "print(x); # Print values of x at the 10 defined points of t"
   ]
  },
  {
   "cell_type": "markdown",
   "metadata": {},
   "source": [
    "The Python kernel is fully-featured for numeric computation, and includes most of the packages useful for scientific computing.  The following code plots the vectors defined above using \"matplotlib\".  The `%matplotlib notebook` line makes any plots appear in the notebook itself rather than in a separate window."
   ]
  },
  {
   "cell_type": "code",
   "execution_count": 21,
   "metadata": {},
   "outputs": [
    {
     "data": {
      "application/javascript": [
       "/* Put everything inside the global mpl namespace */\n",
       "window.mpl = {};\n",
       "\n",
       "\n",
       "mpl.get_websocket_type = function() {\n",
       "    if (typeof(WebSocket) !== 'undefined') {\n",
       "        return WebSocket;\n",
       "    } else if (typeof(MozWebSocket) !== 'undefined') {\n",
       "        return MozWebSocket;\n",
       "    } else {\n",
       "        alert('Your browser does not have WebSocket support. ' +\n",
       "              'Please try Chrome, Safari or Firefox ≥ 6. ' +\n",
       "              'Firefox 4 and 5 are also supported but you ' +\n",
       "              'have to enable WebSockets in about:config.');\n",
       "    };\n",
       "}\n",
       "\n",
       "mpl.figure = function(figure_id, websocket, ondownload, parent_element) {\n",
       "    this.id = figure_id;\n",
       "\n",
       "    this.ws = websocket;\n",
       "\n",
       "    this.supports_binary = (this.ws.binaryType != undefined);\n",
       "\n",
       "    if (!this.supports_binary) {\n",
       "        var warnings = document.getElementById(\"mpl-warnings\");\n",
       "        if (warnings) {\n",
       "            warnings.style.display = 'block';\n",
       "            warnings.textContent = (\n",
       "                \"This browser does not support binary websocket messages. \" +\n",
       "                    \"Performance may be slow.\");\n",
       "        }\n",
       "    }\n",
       "\n",
       "    this.imageObj = new Image();\n",
       "\n",
       "    this.context = undefined;\n",
       "    this.message = undefined;\n",
       "    this.canvas = undefined;\n",
       "    this.rubberband_canvas = undefined;\n",
       "    this.rubberband_context = undefined;\n",
       "    this.format_dropdown = undefined;\n",
       "\n",
       "    this.image_mode = 'full';\n",
       "\n",
       "    this.root = $('<div/>');\n",
       "    this._root_extra_style(this.root)\n",
       "    this.root.attr('style', 'display: inline-block');\n",
       "\n",
       "    $(parent_element).append(this.root);\n",
       "\n",
       "    this._init_header(this);\n",
       "    this._init_canvas(this);\n",
       "    this._init_toolbar(this);\n",
       "\n",
       "    var fig = this;\n",
       "\n",
       "    this.waiting = false;\n",
       "\n",
       "    this.ws.onopen =  function () {\n",
       "            fig.send_message(\"supports_binary\", {value: fig.supports_binary});\n",
       "            fig.send_message(\"send_image_mode\", {});\n",
       "            if (mpl.ratio != 1) {\n",
       "                fig.send_message(\"set_dpi_ratio\", {'dpi_ratio': mpl.ratio});\n",
       "            }\n",
       "            fig.send_message(\"refresh\", {});\n",
       "        }\n",
       "\n",
       "    this.imageObj.onload = function() {\n",
       "            if (fig.image_mode == 'full') {\n",
       "                // Full images could contain transparency (where diff images\n",
       "                // almost always do), so we need to clear the canvas so that\n",
       "                // there is no ghosting.\n",
       "                fig.context.clearRect(0, 0, fig.canvas.width, fig.canvas.height);\n",
       "            }\n",
       "            fig.context.drawImage(fig.imageObj, 0, 0);\n",
       "        };\n",
       "\n",
       "    this.imageObj.onunload = function() {\n",
       "        fig.ws.close();\n",
       "    }\n",
       "\n",
       "    this.ws.onmessage = this._make_on_message_function(this);\n",
       "\n",
       "    this.ondownload = ondownload;\n",
       "}\n",
       "\n",
       "mpl.figure.prototype._init_header = function() {\n",
       "    var titlebar = $(\n",
       "        '<div class=\"ui-dialog-titlebar ui-widget-header ui-corner-all ' +\n",
       "        'ui-helper-clearfix\"/>');\n",
       "    var titletext = $(\n",
       "        '<div class=\"ui-dialog-title\" style=\"width: 100%; ' +\n",
       "        'text-align: center; padding: 3px;\"/>');\n",
       "    titlebar.append(titletext)\n",
       "    this.root.append(titlebar);\n",
       "    this.header = titletext[0];\n",
       "}\n",
       "\n",
       "\n",
       "\n",
       "mpl.figure.prototype._canvas_extra_style = function(canvas_div) {\n",
       "\n",
       "}\n",
       "\n",
       "\n",
       "mpl.figure.prototype._root_extra_style = function(canvas_div) {\n",
       "\n",
       "}\n",
       "\n",
       "mpl.figure.prototype._init_canvas = function() {\n",
       "    var fig = this;\n",
       "\n",
       "    var canvas_div = $('<div/>');\n",
       "\n",
       "    canvas_div.attr('style', 'position: relative; clear: both; outline: 0');\n",
       "\n",
       "    function canvas_keyboard_event(event) {\n",
       "        return fig.key_event(event, event['data']);\n",
       "    }\n",
       "\n",
       "    canvas_div.keydown('key_press', canvas_keyboard_event);\n",
       "    canvas_div.keyup('key_release', canvas_keyboard_event);\n",
       "    this.canvas_div = canvas_div\n",
       "    this._canvas_extra_style(canvas_div)\n",
       "    this.root.append(canvas_div);\n",
       "\n",
       "    var canvas = $('<canvas/>');\n",
       "    canvas.addClass('mpl-canvas');\n",
       "    canvas.attr('style', \"left: 0; top: 0; z-index: 0; outline: 0\")\n",
       "\n",
       "    this.canvas = canvas[0];\n",
       "    this.context = canvas[0].getContext(\"2d\");\n",
       "\n",
       "    var backingStore = this.context.backingStorePixelRatio ||\n",
       "\tthis.context.webkitBackingStorePixelRatio ||\n",
       "\tthis.context.mozBackingStorePixelRatio ||\n",
       "\tthis.context.msBackingStorePixelRatio ||\n",
       "\tthis.context.oBackingStorePixelRatio ||\n",
       "\tthis.context.backingStorePixelRatio || 1;\n",
       "\n",
       "    mpl.ratio = (window.devicePixelRatio || 1) / backingStore;\n",
       "\n",
       "    var rubberband = $('<canvas/>');\n",
       "    rubberband.attr('style', \"position: absolute; left: 0; top: 0; z-index: 1;\")\n",
       "\n",
       "    var pass_mouse_events = true;\n",
       "\n",
       "    canvas_div.resizable({\n",
       "        start: function(event, ui) {\n",
       "            pass_mouse_events = false;\n",
       "        },\n",
       "        resize: function(event, ui) {\n",
       "            fig.request_resize(ui.size.width, ui.size.height);\n",
       "        },\n",
       "        stop: function(event, ui) {\n",
       "            pass_mouse_events = true;\n",
       "            fig.request_resize(ui.size.width, ui.size.height);\n",
       "        },\n",
       "    });\n",
       "\n",
       "    function mouse_event_fn(event) {\n",
       "        if (pass_mouse_events)\n",
       "            return fig.mouse_event(event, event['data']);\n",
       "    }\n",
       "\n",
       "    rubberband.mousedown('button_press', mouse_event_fn);\n",
       "    rubberband.mouseup('button_release', mouse_event_fn);\n",
       "    // Throttle sequential mouse events to 1 every 20ms.\n",
       "    rubberband.mousemove('motion_notify', mouse_event_fn);\n",
       "\n",
       "    rubberband.mouseenter('figure_enter', mouse_event_fn);\n",
       "    rubberband.mouseleave('figure_leave', mouse_event_fn);\n",
       "\n",
       "    canvas_div.on(\"wheel\", function (event) {\n",
       "        event = event.originalEvent;\n",
       "        event['data'] = 'scroll'\n",
       "        if (event.deltaY < 0) {\n",
       "            event.step = 1;\n",
       "        } else {\n",
       "            event.step = -1;\n",
       "        }\n",
       "        mouse_event_fn(event);\n",
       "    });\n",
       "\n",
       "    canvas_div.append(canvas);\n",
       "    canvas_div.append(rubberband);\n",
       "\n",
       "    this.rubberband = rubberband;\n",
       "    this.rubberband_canvas = rubberband[0];\n",
       "    this.rubberband_context = rubberband[0].getContext(\"2d\");\n",
       "    this.rubberband_context.strokeStyle = \"#000000\";\n",
       "\n",
       "    this._resize_canvas = function(width, height) {\n",
       "        // Keep the size of the canvas, canvas container, and rubber band\n",
       "        // canvas in synch.\n",
       "        canvas_div.css('width', width)\n",
       "        canvas_div.css('height', height)\n",
       "\n",
       "        canvas.attr('width', width * mpl.ratio);\n",
       "        canvas.attr('height', height * mpl.ratio);\n",
       "        canvas.attr('style', 'width: ' + width + 'px; height: ' + height + 'px;');\n",
       "\n",
       "        rubberband.attr('width', width);\n",
       "        rubberband.attr('height', height);\n",
       "    }\n",
       "\n",
       "    // Set the figure to an initial 600x600px, this will subsequently be updated\n",
       "    // upon first draw.\n",
       "    this._resize_canvas(600, 600);\n",
       "\n",
       "    // Disable right mouse context menu.\n",
       "    $(this.rubberband_canvas).bind(\"contextmenu\",function(e){\n",
       "        return false;\n",
       "    });\n",
       "\n",
       "    function set_focus () {\n",
       "        canvas.focus();\n",
       "        canvas_div.focus();\n",
       "    }\n",
       "\n",
       "    window.setTimeout(set_focus, 100);\n",
       "}\n",
       "\n",
       "mpl.figure.prototype._init_toolbar = function() {\n",
       "    var fig = this;\n",
       "\n",
       "    var nav_element = $('<div/>');\n",
       "    nav_element.attr('style', 'width: 100%');\n",
       "    this.root.append(nav_element);\n",
       "\n",
       "    // Define a callback function for later on.\n",
       "    function toolbar_event(event) {\n",
       "        return fig.toolbar_button_onclick(event['data']);\n",
       "    }\n",
       "    function toolbar_mouse_event(event) {\n",
       "        return fig.toolbar_button_onmouseover(event['data']);\n",
       "    }\n",
       "\n",
       "    for(var toolbar_ind in mpl.toolbar_items) {\n",
       "        var name = mpl.toolbar_items[toolbar_ind][0];\n",
       "        var tooltip = mpl.toolbar_items[toolbar_ind][1];\n",
       "        var image = mpl.toolbar_items[toolbar_ind][2];\n",
       "        var method_name = mpl.toolbar_items[toolbar_ind][3];\n",
       "\n",
       "        if (!name) {\n",
       "            // put a spacer in here.\n",
       "            continue;\n",
       "        }\n",
       "        var button = $('<button/>');\n",
       "        button.addClass('ui-button ui-widget ui-state-default ui-corner-all ' +\n",
       "                        'ui-button-icon-only');\n",
       "        button.attr('role', 'button');\n",
       "        button.attr('aria-disabled', 'false');\n",
       "        button.click(method_name, toolbar_event);\n",
       "        button.mouseover(tooltip, toolbar_mouse_event);\n",
       "\n",
       "        var icon_img = $('<span/>');\n",
       "        icon_img.addClass('ui-button-icon-primary ui-icon');\n",
       "        icon_img.addClass(image);\n",
       "        icon_img.addClass('ui-corner-all');\n",
       "\n",
       "        var tooltip_span = $('<span/>');\n",
       "        tooltip_span.addClass('ui-button-text');\n",
       "        tooltip_span.html(tooltip);\n",
       "\n",
       "        button.append(icon_img);\n",
       "        button.append(tooltip_span);\n",
       "\n",
       "        nav_element.append(button);\n",
       "    }\n",
       "\n",
       "    var fmt_picker_span = $('<span/>');\n",
       "\n",
       "    var fmt_picker = $('<select/>');\n",
       "    fmt_picker.addClass('mpl-toolbar-option ui-widget ui-widget-content');\n",
       "    fmt_picker_span.append(fmt_picker);\n",
       "    nav_element.append(fmt_picker_span);\n",
       "    this.format_dropdown = fmt_picker[0];\n",
       "\n",
       "    for (var ind in mpl.extensions) {\n",
       "        var fmt = mpl.extensions[ind];\n",
       "        var option = $(\n",
       "            '<option/>', {selected: fmt === mpl.default_extension}).html(fmt);\n",
       "        fmt_picker.append(option);\n",
       "    }\n",
       "\n",
       "    // Add hover states to the ui-buttons\n",
       "    $( \".ui-button\" ).hover(\n",
       "        function() { $(this).addClass(\"ui-state-hover\");},\n",
       "        function() { $(this).removeClass(\"ui-state-hover\");}\n",
       "    );\n",
       "\n",
       "    var status_bar = $('<span class=\"mpl-message\"/>');\n",
       "    nav_element.append(status_bar);\n",
       "    this.message = status_bar[0];\n",
       "}\n",
       "\n",
       "mpl.figure.prototype.request_resize = function(x_pixels, y_pixels) {\n",
       "    // Request matplotlib to resize the figure. Matplotlib will then trigger a resize in the client,\n",
       "    // which will in turn request a refresh of the image.\n",
       "    this.send_message('resize', {'width': x_pixels, 'height': y_pixels});\n",
       "}\n",
       "\n",
       "mpl.figure.prototype.send_message = function(type, properties) {\n",
       "    properties['type'] = type;\n",
       "    properties['figure_id'] = this.id;\n",
       "    this.ws.send(JSON.stringify(properties));\n",
       "}\n",
       "\n",
       "mpl.figure.prototype.send_draw_message = function() {\n",
       "    if (!this.waiting) {\n",
       "        this.waiting = true;\n",
       "        this.ws.send(JSON.stringify({type: \"draw\", figure_id: this.id}));\n",
       "    }\n",
       "}\n",
       "\n",
       "\n",
       "mpl.figure.prototype.handle_save = function(fig, msg) {\n",
       "    var format_dropdown = fig.format_dropdown;\n",
       "    var format = format_dropdown.options[format_dropdown.selectedIndex].value;\n",
       "    fig.ondownload(fig, format);\n",
       "}\n",
       "\n",
       "\n",
       "mpl.figure.prototype.handle_resize = function(fig, msg) {\n",
       "    var size = msg['size'];\n",
       "    if (size[0] != fig.canvas.width || size[1] != fig.canvas.height) {\n",
       "        fig._resize_canvas(size[0], size[1]);\n",
       "        fig.send_message(\"refresh\", {});\n",
       "    };\n",
       "}\n",
       "\n",
       "mpl.figure.prototype.handle_rubberband = function(fig, msg) {\n",
       "    var x0 = msg['x0'] / mpl.ratio;\n",
       "    var y0 = (fig.canvas.height - msg['y0']) / mpl.ratio;\n",
       "    var x1 = msg['x1'] / mpl.ratio;\n",
       "    var y1 = (fig.canvas.height - msg['y1']) / mpl.ratio;\n",
       "    x0 = Math.floor(x0) + 0.5;\n",
       "    y0 = Math.floor(y0) + 0.5;\n",
       "    x1 = Math.floor(x1) + 0.5;\n",
       "    y1 = Math.floor(y1) + 0.5;\n",
       "    var min_x = Math.min(x0, x1);\n",
       "    var min_y = Math.min(y0, y1);\n",
       "    var width = Math.abs(x1 - x0);\n",
       "    var height = Math.abs(y1 - y0);\n",
       "\n",
       "    fig.rubberband_context.clearRect(\n",
       "        0, 0, fig.canvas.width / mpl.ratio, fig.canvas.height / mpl.ratio);\n",
       "\n",
       "    fig.rubberband_context.strokeRect(min_x, min_y, width, height);\n",
       "}\n",
       "\n",
       "mpl.figure.prototype.handle_figure_label = function(fig, msg) {\n",
       "    // Updates the figure title.\n",
       "    fig.header.textContent = msg['label'];\n",
       "}\n",
       "\n",
       "mpl.figure.prototype.handle_cursor = function(fig, msg) {\n",
       "    var cursor = msg['cursor'];\n",
       "    switch(cursor)\n",
       "    {\n",
       "    case 0:\n",
       "        cursor = 'pointer';\n",
       "        break;\n",
       "    case 1:\n",
       "        cursor = 'default';\n",
       "        break;\n",
       "    case 2:\n",
       "        cursor = 'crosshair';\n",
       "        break;\n",
       "    case 3:\n",
       "        cursor = 'move';\n",
       "        break;\n",
       "    }\n",
       "    fig.rubberband_canvas.style.cursor = cursor;\n",
       "}\n",
       "\n",
       "mpl.figure.prototype.handle_message = function(fig, msg) {\n",
       "    fig.message.textContent = msg['message'];\n",
       "}\n",
       "\n",
       "mpl.figure.prototype.handle_draw = function(fig, msg) {\n",
       "    // Request the server to send over a new figure.\n",
       "    fig.send_draw_message();\n",
       "}\n",
       "\n",
       "mpl.figure.prototype.handle_image_mode = function(fig, msg) {\n",
       "    fig.image_mode = msg['mode'];\n",
       "}\n",
       "\n",
       "mpl.figure.prototype.updated_canvas_event = function() {\n",
       "    // Called whenever the canvas gets updated.\n",
       "    this.send_message(\"ack\", {});\n",
       "}\n",
       "\n",
       "// A function to construct a web socket function for onmessage handling.\n",
       "// Called in the figure constructor.\n",
       "mpl.figure.prototype._make_on_message_function = function(fig) {\n",
       "    return function socket_on_message(evt) {\n",
       "        if (evt.data instanceof Blob) {\n",
       "            /* FIXME: We get \"Resource interpreted as Image but\n",
       "             * transferred with MIME type text/plain:\" errors on\n",
       "             * Chrome.  But how to set the MIME type?  It doesn't seem\n",
       "             * to be part of the websocket stream */\n",
       "            evt.data.type = \"image/png\";\n",
       "\n",
       "            /* Free the memory for the previous frames */\n",
       "            if (fig.imageObj.src) {\n",
       "                (window.URL || window.webkitURL).revokeObjectURL(\n",
       "                    fig.imageObj.src);\n",
       "            }\n",
       "\n",
       "            fig.imageObj.src = (window.URL || window.webkitURL).createObjectURL(\n",
       "                evt.data);\n",
       "            fig.updated_canvas_event();\n",
       "            fig.waiting = false;\n",
       "            return;\n",
       "        }\n",
       "        else if (typeof evt.data === 'string' && evt.data.slice(0, 21) == \"data:image/png;base64\") {\n",
       "            fig.imageObj.src = evt.data;\n",
       "            fig.updated_canvas_event();\n",
       "            fig.waiting = false;\n",
       "            return;\n",
       "        }\n",
       "\n",
       "        var msg = JSON.parse(evt.data);\n",
       "        var msg_type = msg['type'];\n",
       "\n",
       "        // Call the  \"handle_{type}\" callback, which takes\n",
       "        // the figure and JSON message as its only arguments.\n",
       "        try {\n",
       "            var callback = fig[\"handle_\" + msg_type];\n",
       "        } catch (e) {\n",
       "            console.log(\"No handler for the '\" + msg_type + \"' message type: \", msg);\n",
       "            return;\n",
       "        }\n",
       "\n",
       "        if (callback) {\n",
       "            try {\n",
       "                // console.log(\"Handling '\" + msg_type + \"' message: \", msg);\n",
       "                callback(fig, msg);\n",
       "            } catch (e) {\n",
       "                console.log(\"Exception inside the 'handler_\" + msg_type + \"' callback:\", e, e.stack, msg);\n",
       "            }\n",
       "        }\n",
       "    };\n",
       "}\n",
       "\n",
       "// from http://stackoverflow.com/questions/1114465/getting-mouse-location-in-canvas\n",
       "mpl.findpos = function(e) {\n",
       "    //this section is from http://www.quirksmode.org/js/events_properties.html\n",
       "    var targ;\n",
       "    if (!e)\n",
       "        e = window.event;\n",
       "    if (e.target)\n",
       "        targ = e.target;\n",
       "    else if (e.srcElement)\n",
       "        targ = e.srcElement;\n",
       "    if (targ.nodeType == 3) // defeat Safari bug\n",
       "        targ = targ.parentNode;\n",
       "\n",
       "    // jQuery normalizes the pageX and pageY\n",
       "    // pageX,Y are the mouse positions relative to the document\n",
       "    // offset() returns the position of the element relative to the document\n",
       "    var x = e.pageX - $(targ).offset().left;\n",
       "    var y = e.pageY - $(targ).offset().top;\n",
       "\n",
       "    return {\"x\": x, \"y\": y};\n",
       "};\n",
       "\n",
       "/*\n",
       " * return a copy of an object with only non-object keys\n",
       " * we need this to avoid circular references\n",
       " * http://stackoverflow.com/a/24161582/3208463\n",
       " */\n",
       "function simpleKeys (original) {\n",
       "  return Object.keys(original).reduce(function (obj, key) {\n",
       "    if (typeof original[key] !== 'object')\n",
       "        obj[key] = original[key]\n",
       "    return obj;\n",
       "  }, {});\n",
       "}\n",
       "\n",
       "mpl.figure.prototype.mouse_event = function(event, name) {\n",
       "    var canvas_pos = mpl.findpos(event)\n",
       "\n",
       "    if (name === 'button_press')\n",
       "    {\n",
       "        this.canvas.focus();\n",
       "        this.canvas_div.focus();\n",
       "    }\n",
       "\n",
       "    var x = canvas_pos.x * mpl.ratio;\n",
       "    var y = canvas_pos.y * mpl.ratio;\n",
       "\n",
       "    this.send_message(name, {x: x, y: y, button: event.button,\n",
       "                             step: event.step,\n",
       "                             guiEvent: simpleKeys(event)});\n",
       "\n",
       "    /* This prevents the web browser from automatically changing to\n",
       "     * the text insertion cursor when the button is pressed.  We want\n",
       "     * to control all of the cursor setting manually through the\n",
       "     * 'cursor' event from matplotlib */\n",
       "    event.preventDefault();\n",
       "    return false;\n",
       "}\n",
       "\n",
       "mpl.figure.prototype._key_event_extra = function(event, name) {\n",
       "    // Handle any extra behaviour associated with a key event\n",
       "}\n",
       "\n",
       "mpl.figure.prototype.key_event = function(event, name) {\n",
       "\n",
       "    // Prevent repeat events\n",
       "    if (name == 'key_press')\n",
       "    {\n",
       "        if (event.which === this._key)\n",
       "            return;\n",
       "        else\n",
       "            this._key = event.which;\n",
       "    }\n",
       "    if (name == 'key_release')\n",
       "        this._key = null;\n",
       "\n",
       "    var value = '';\n",
       "    if (event.ctrlKey && event.which != 17)\n",
       "        value += \"ctrl+\";\n",
       "    if (event.altKey && event.which != 18)\n",
       "        value += \"alt+\";\n",
       "    if (event.shiftKey && event.which != 16)\n",
       "        value += \"shift+\";\n",
       "\n",
       "    value += 'k';\n",
       "    value += event.which.toString();\n",
       "\n",
       "    this._key_event_extra(event, name);\n",
       "\n",
       "    this.send_message(name, {key: value,\n",
       "                             guiEvent: simpleKeys(event)});\n",
       "    return false;\n",
       "}\n",
       "\n",
       "mpl.figure.prototype.toolbar_button_onclick = function(name) {\n",
       "    if (name == 'download') {\n",
       "        this.handle_save(this, null);\n",
       "    } else {\n",
       "        this.send_message(\"toolbar_button\", {name: name});\n",
       "    }\n",
       "};\n",
       "\n",
       "mpl.figure.prototype.toolbar_button_onmouseover = function(tooltip) {\n",
       "    this.message.textContent = tooltip;\n",
       "};\n",
       "mpl.toolbar_items = [[\"Home\", \"Reset original view\", \"fa fa-home icon-home\", \"home\"], [\"Back\", \"Back to previous view\", \"fa fa-arrow-left icon-arrow-left\", \"back\"], [\"Forward\", \"Forward to next view\", \"fa fa-arrow-right icon-arrow-right\", \"forward\"], [\"\", \"\", \"\", \"\"], [\"Pan\", \"Pan axes with left mouse, zoom with right\", \"fa fa-arrows icon-move\", \"pan\"], [\"Zoom\", \"Zoom to rectangle\", \"fa fa-square-o icon-check-empty\", \"zoom\"], [\"\", \"\", \"\", \"\"], [\"Download\", \"Download plot\", \"fa fa-floppy-o icon-save\", \"download\"]];\n",
       "\n",
       "mpl.extensions = [\"eps\", \"jpeg\", \"pdf\", \"png\", \"ps\", \"raw\", \"svg\", \"tif\"];\n",
       "\n",
       "mpl.default_extension = \"png\";var comm_websocket_adapter = function(comm) {\n",
       "    // Create a \"websocket\"-like object which calls the given IPython comm\n",
       "    // object with the appropriate methods. Currently this is a non binary\n",
       "    // socket, so there is still some room for performance tuning.\n",
       "    var ws = {};\n",
       "\n",
       "    ws.close = function() {\n",
       "        comm.close()\n",
       "    };\n",
       "    ws.send = function(m) {\n",
       "        //console.log('sending', m);\n",
       "        comm.send(m);\n",
       "    };\n",
       "    // Register the callback with on_msg.\n",
       "    comm.on_msg(function(msg) {\n",
       "        //console.log('receiving', msg['content']['data'], msg);\n",
       "        // Pass the mpl event to the overridden (by mpl) onmessage function.\n",
       "        ws.onmessage(msg['content']['data'])\n",
       "    });\n",
       "    return ws;\n",
       "}\n",
       "\n",
       "mpl.mpl_figure_comm = function(comm, msg) {\n",
       "    // This is the function which gets called when the mpl process\n",
       "    // starts-up an IPython Comm through the \"matplotlib\" channel.\n",
       "\n",
       "    var id = msg.content.data.id;\n",
       "    // Get hold of the div created by the display call when the Comm\n",
       "    // socket was opened in Python.\n",
       "    var element = $(\"#\" + id);\n",
       "    var ws_proxy = comm_websocket_adapter(comm)\n",
       "\n",
       "    function ondownload(figure, format) {\n",
       "        window.open(figure.imageObj.src);\n",
       "    }\n",
       "\n",
       "    var fig = new mpl.figure(id, ws_proxy,\n",
       "                           ondownload,\n",
       "                           element.get(0));\n",
       "\n",
       "    // Call onopen now - mpl needs it, as it is assuming we've passed it a real\n",
       "    // web socket which is closed, not our websocket->open comm proxy.\n",
       "    ws_proxy.onopen();\n",
       "\n",
       "    fig.parent_element = element.get(0);\n",
       "    fig.cell_info = mpl.find_output_cell(\"<div id='\" + id + \"'></div>\");\n",
       "    if (!fig.cell_info) {\n",
       "        console.error(\"Failed to find cell for figure\", id, fig);\n",
       "        return;\n",
       "    }\n",
       "\n",
       "    var output_index = fig.cell_info[2]\n",
       "    var cell = fig.cell_info[0];\n",
       "\n",
       "};\n",
       "\n",
       "mpl.figure.prototype.handle_close = function(fig, msg) {\n",
       "    var width = fig.canvas.width/mpl.ratio\n",
       "    fig.root.unbind('remove')\n",
       "\n",
       "    // Update the output cell to use the data from the current canvas.\n",
       "    fig.push_to_output();\n",
       "    var dataURL = fig.canvas.toDataURL();\n",
       "    // Re-enable the keyboard manager in IPython - without this line, in FF,\n",
       "    // the notebook keyboard shortcuts fail.\n",
       "    IPython.keyboard_manager.enable()\n",
       "    $(fig.parent_element).html('<img src=\"' + dataURL + '\" width=\"' + width + '\">');\n",
       "    fig.close_ws(fig, msg);\n",
       "}\n",
       "\n",
       "mpl.figure.prototype.close_ws = function(fig, msg){\n",
       "    fig.send_message('closing', msg);\n",
       "    // fig.ws.close()\n",
       "}\n",
       "\n",
       "mpl.figure.prototype.push_to_output = function(remove_interactive) {\n",
       "    // Turn the data on the canvas into data in the output cell.\n",
       "    var width = this.canvas.width/mpl.ratio\n",
       "    var dataURL = this.canvas.toDataURL();\n",
       "    this.cell_info[1]['text/html'] = '<img src=\"' + dataURL + '\" width=\"' + width + '\">';\n",
       "}\n",
       "\n",
       "mpl.figure.prototype.updated_canvas_event = function() {\n",
       "    // Tell IPython that the notebook contents must change.\n",
       "    IPython.notebook.set_dirty(true);\n",
       "    this.send_message(\"ack\", {});\n",
       "    var fig = this;\n",
       "    // Wait a second, then push the new image to the DOM so\n",
       "    // that it is saved nicely (might be nice to debounce this).\n",
       "    setTimeout(function () { fig.push_to_output() }, 1000);\n",
       "}\n",
       "\n",
       "mpl.figure.prototype._init_toolbar = function() {\n",
       "    var fig = this;\n",
       "\n",
       "    var nav_element = $('<div/>');\n",
       "    nav_element.attr('style', 'width: 100%');\n",
       "    this.root.append(nav_element);\n",
       "\n",
       "    // Define a callback function for later on.\n",
       "    function toolbar_event(event) {\n",
       "        return fig.toolbar_button_onclick(event['data']);\n",
       "    }\n",
       "    function toolbar_mouse_event(event) {\n",
       "        return fig.toolbar_button_onmouseover(event['data']);\n",
       "    }\n",
       "\n",
       "    for(var toolbar_ind in mpl.toolbar_items){\n",
       "        var name = mpl.toolbar_items[toolbar_ind][0];\n",
       "        var tooltip = mpl.toolbar_items[toolbar_ind][1];\n",
       "        var image = mpl.toolbar_items[toolbar_ind][2];\n",
       "        var method_name = mpl.toolbar_items[toolbar_ind][3];\n",
       "\n",
       "        if (!name) { continue; };\n",
       "\n",
       "        var button = $('<button class=\"btn btn-default\" href=\"#\" title=\"' + name + '\"><i class=\"fa ' + image + ' fa-lg\"></i></button>');\n",
       "        button.click(method_name, toolbar_event);\n",
       "        button.mouseover(tooltip, toolbar_mouse_event);\n",
       "        nav_element.append(button);\n",
       "    }\n",
       "\n",
       "    // Add the status bar.\n",
       "    var status_bar = $('<span class=\"mpl-message\" style=\"text-align:right; float: right;\"/>');\n",
       "    nav_element.append(status_bar);\n",
       "    this.message = status_bar[0];\n",
       "\n",
       "    // Add the close button to the window.\n",
       "    var buttongrp = $('<div class=\"btn-group inline pull-right\"></div>');\n",
       "    var button = $('<button class=\"btn btn-mini btn-primary\" href=\"#\" title=\"Stop Interaction\"><i class=\"fa fa-power-off icon-remove icon-large\"></i></button>');\n",
       "    button.click(function (evt) { fig.handle_close(fig, {}); } );\n",
       "    button.mouseover('Stop Interaction', toolbar_mouse_event);\n",
       "    buttongrp.append(button);\n",
       "    var titlebar = this.root.find($('.ui-dialog-titlebar'));\n",
       "    titlebar.prepend(buttongrp);\n",
       "}\n",
       "\n",
       "mpl.figure.prototype._root_extra_style = function(el){\n",
       "    var fig = this\n",
       "    el.on(\"remove\", function(){\n",
       "\tfig.close_ws(fig, {});\n",
       "    });\n",
       "}\n",
       "\n",
       "mpl.figure.prototype._canvas_extra_style = function(el){\n",
       "    // this is important to make the div 'focusable\n",
       "    el.attr('tabindex', 0)\n",
       "    // reach out to IPython and tell the keyboard manager to turn it's self\n",
       "    // off when our div gets focus\n",
       "\n",
       "    // location in version 3\n",
       "    if (IPython.notebook.keyboard_manager) {\n",
       "        IPython.notebook.keyboard_manager.register_events(el);\n",
       "    }\n",
       "    else {\n",
       "        // location in version 2\n",
       "        IPython.keyboard_manager.register_events(el);\n",
       "    }\n",
       "\n",
       "}\n",
       "\n",
       "mpl.figure.prototype._key_event_extra = function(event, name) {\n",
       "    var manager = IPython.notebook.keyboard_manager;\n",
       "    if (!manager)\n",
       "        manager = IPython.keyboard_manager;\n",
       "\n",
       "    // Check for shift+enter\n",
       "    if (event.shiftKey && event.which == 13) {\n",
       "        this.canvas_div.blur();\n",
       "        event.shiftKey = false;\n",
       "        // Send a \"J\" for go to next cell\n",
       "        event.which = 74;\n",
       "        event.keyCode = 74;\n",
       "        manager.command_mode();\n",
       "        manager.handle_keydown(event);\n",
       "    }\n",
       "}\n",
       "\n",
       "mpl.figure.prototype.handle_save = function(fig, msg) {\n",
       "    fig.ondownload(fig, null);\n",
       "}\n",
       "\n",
       "\n",
       "mpl.find_output_cell = function(html_output) {\n",
       "    // Return the cell and output element which can be found *uniquely* in the notebook.\n",
       "    // Note - this is a bit hacky, but it is done because the \"notebook_saving.Notebook\"\n",
       "    // IPython event is triggered only after the cells have been serialised, which for\n",
       "    // our purposes (turning an active figure into a static one), is too late.\n",
       "    var cells = IPython.notebook.get_cells();\n",
       "    var ncells = cells.length;\n",
       "    for (var i=0; i<ncells; i++) {\n",
       "        var cell = cells[i];\n",
       "        if (cell.cell_type === 'code'){\n",
       "            for (var j=0; j<cell.output_area.outputs.length; j++) {\n",
       "                var data = cell.output_area.outputs[j];\n",
       "                if (data.data) {\n",
       "                    // IPython >= 3 moved mimebundle to data attribute of output\n",
       "                    data = data.data;\n",
       "                }\n",
       "                if (data['text/html'] == html_output) {\n",
       "                    return [cell, data, j];\n",
       "                }\n",
       "            }\n",
       "        }\n",
       "    }\n",
       "}\n",
       "\n",
       "// Register the function which deals with the matplotlib target/channel.\n",
       "// The kernel may be null if the page has been refreshed.\n",
       "if (IPython.notebook.kernel != null) {\n",
       "    IPython.notebook.kernel.comm_manager.register_target('matplotlib', mpl.mpl_figure_comm);\n",
       "}\n"
      ],
      "text/plain": [
       "<IPython.core.display.Javascript object>"
      ]
     },
     "metadata": {},
     "output_type": "display_data"
    },
    {
     "data": {
      "text/html": [
       "<img src=\"data:image/png;base64,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\" width=\"384\">"
      ],
      "text/plain": [
       "<IPython.core.display.HTML object>"
      ]
     },
     "metadata": {},
     "output_type": "display_data"
    }
   ],
   "source": [
    "import matplotlib.pyplot as plt # Import matplotlib for plotting\n",
    "%matplotlib notebook\n",
    "\n",
    "plt.rcParams['figure.dpi'] = 60; # Decrease plot size\n",
    "plt.plot(t, x, 'ro-') # Plot x vs t using red, circular dots connected by lines\n",
    "plt.xlabel('t');  plt.ylabel('x(t)'); # Labels for axes"
   ]
  },
  {
   "cell_type": "markdown",
   "metadata": {},
   "source": [
    "When you execute the code above it runs it in the Python kernel for the notebook, which already has the variables `t` and `x` defined.  This can cause problems:  if you jump around the notebook running cells in some arbitrary order then the kernel will probably end up in a weird state.  If this happens then you can use the menu item \"Cell\" -> \"Run All\" to re-execute all cells in the notebook in order.  If things really go wrong then restart the kernel.\n",
    "\n",
    "Executing a text or markdown cell has a different effect:  the content is converted and rendered as rich text.  The markdown language is documented all over the internet, and supports both HTML and LaTeX equations.  Do a web search if you want details or introductions to these topics."
   ]
  },
  {
   "cell_type": "markdown",
   "metadata": {},
   "source": [
    "### Gaining familiarity\n",
    "\n",
    "One of the nice things about Python is that there's an active community of technical people that provide useful information and resources.  If you don't know how to do something, then a simple web search can quickly help. There are also some \"Cheat Sheets\" available on Vula if you're feeling rusty with your Python.\n",
    "\n",
    "There's a basic numerical Python tutorial at `http://cs231n.github.io/python-numpy-tutorial`, and a Python notebook version at `https://github.com/kuleshov/cs228-material/blob/master/tutorials/python/cs228-python-tutorial.ipynb`. A copy of this notebook that has been updated for Python 3 is included in the \"examples\" directory of your \"notebooks\" folder. Load this notebook and work through the cells.  Make changes to the contents, and press \"shift-enter\" to run and see the corresponding outputs. Pay particular attention to how to use numpy arrays, and how to plot using matplotlib.\n",
    "\n",
    "You can also access function help in Jupyter notebook. You can access help windows for functions by placing a `?` before a function, e.g. `#?plt.plot()`."
   ]
  },
  {
   "cell_type": "markdown",
   "metadata": {},
   "source": [
    "## 2. Symbolic math introduction\n",
    "\n",
    "Now that we've covered the basics, we can move onto something more useful: symbolic mathematics. This is a maturing technology that lets a computer do maths using symbolic manipulation rather than numerical computation. Python has support for symbolic computation via the \"sympy\" package. Some good examples of sympy in use are at `http://www.cfm.brown.edu/people/dobrush/am33/SymPy/index.html` and `https://github.com/sympy/sympy/wiki/Quick-examples`."
   ]
  },
  {
   "cell_type": "markdown",
   "metadata": {},
   "source": [
    "### Basic differentiation\n",
    "\n",
    "The cell below imports the symbolic math package, and defines two symbolic variables `x` and `y`.  A symbolic function $f(x,y) = (x^2-2x+3)/y$ is then defined and printed."
   ]
  },
  {
   "cell_type": "code",
   "execution_count": 41,
   "metadata": {},
   "outputs": [
    {
     "name": "stdout",
     "output_type": "stream",
     "text": [
      "(x**2 - 2*x + 3)/y\n"
     ]
    }
   ],
   "source": [
    "import sympy as sp # Import the sympy library under the name 'sp'\n",
    "\n",
    "x, y = sp.symbols('x y');\n",
    "f = (x**2 - 2*x + 3)/y;\n",
    "print(f);"
   ]
  },
  {
   "cell_type": "code",
   "execution_count": 4,
   "metadata": {},
   "outputs": [
    {
     "name": "stdout",
     "output_type": "stream",
     "text": [
      "(x**2 - 2*x + 3)/y\n"
     ]
    },
    {
     "data": {
      "image/png": "[encoded data removed]",
      "text/latex": [
       "$\\displaystyle \\frac{x^{2} - 2 x + 3}{y}$"
      ],
      "text/plain": [
       " 2          \n",
       "x  - 2⋅x + 3\n",
       "────────────\n",
       "     y      "
      ]
     },
     "metadata": {},
     "output_type": "display_data"
    }
   ],
   "source": [
    "# Pro-tip: you can make your outputs look good with LaTeX:\n",
    "from IPython.display import display \n",
    "sp.init_printing() # Initialises pretty printing. Only needs to be run once!\n",
    "\n",
    "# Behold:\n",
    "print(f) # Ugly mode\n",
    "display(f) # Fancy-pants mode"
   ]
  },
  {
   "cell_type": "markdown",
   "metadata": {},
   "source": [
    "Note that `f` here is a symbol representing a function.  It would be nice if the notation made it explicit that it's actually a function of $x$ and $y$, namely `f(x,y)`, but that's not how it works.  However, we can query the free variables:"
   ]
  },
  {
   "cell_type": "code",
   "execution_count": 5,
   "metadata": {},
   "outputs": [
    {
     "data": {
      "image/png": "[encoded data removed]",
      "text/latex": [
       "$\\displaystyle \\left\\{x, y\\right\\}$"
      ],
      "text/plain": [
       "{x, y}"
      ]
     },
     "execution_count": 5,
     "metadata": {},
     "output_type": "execute_result"
    }
   ],
   "source": [
    "f.free_symbols"
   ]
  },
  {
   "cell_type": "markdown",
   "metadata": {},
   "source": [
    "We can get sympy to find a symbolic expression for the partial derivative of $f(x,y)$ with respect to $y$ by using: "
   ]
  },
  {
   "cell_type": "code",
   "execution_count": 6,
   "metadata": {},
   "outputs": [
    {
     "data": {
      "image/png": "[encoded data removed]",
      "text/latex": [
       "$\\displaystyle - \\frac{x^{2} - 2 x + 3}{y^{2}}$"
      ],
      "text/plain": [
       " ⎛ 2          ⎞ \n",
       "-⎝x  - 2⋅x + 3⎠ \n",
       "────────────────\n",
       "        2       \n",
       "       y        "
      ]
     },
     "execution_count": 6,
     "metadata": {},
     "output_type": "execute_result"
    }
   ],
   "source": [
    "fpy = sp.diff(f, y)\n",
    "fpy"
   ]
  },
  {
   "cell_type": "markdown",
   "metadata": {},
   "source": [
    "To evaluate this derivative at some particular values $x=\\pi$ and $y=2$ we can substitute into the symbolic expression:"
   ]
  },
  {
   "cell_type": "code",
   "execution_count": 7,
   "metadata": {},
   "outputs": [
    {
     "data": {
      "image/png": "[encoded data removed]",
      "text/latex": [
       "$\\displaystyle - \\frac{\\pi^{2}}{4} - \\frac{3}{4} + \\frac{\\pi}{2}$"
      ],
      "text/plain": [
       "   2        \n",
       "  π    3   π\n",
       "- ── - ─ + ─\n",
       "  4    4   2"
      ]
     },
     "execution_count": 7,
     "metadata": {},
     "output_type": "execute_result"
    }
   ],
   "source": [
    "fpyv = fpy.subs([(x, sp.pi), (y, 2)])\n",
    "fpyv"
   ]
  },
  {
   "cell_type": "markdown",
   "metadata": {},
   "source": [
    "Notice though that this is still a symbolic expression.  It can be evaluated using the \"evalf\" method, which finally returns a number:"
   ]
  },
  {
   "cell_type": "code",
   "execution_count": 8,
   "metadata": {},
   "outputs": [
    {
     "data": {
      "image/png": "[encoded data removed]",
      "text/latex": [
       "$\\displaystyle -1.64660477347744$"
      ],
      "text/plain": [
       "-1.64660477347744"
      ]
     },
     "execution_count": 8,
     "metadata": {},
     "output_type": "execute_result"
    }
   ],
   "source": [
    "fpyv.evalf()"
   ]
  },
  {
   "cell_type": "markdown",
   "metadata": {},
   "source": [
    "### More advanced differentiation\n",
    "\n",
    "Symbolic expressions can be manipulated. For example, we can define $g(t) = f(x(t), y(t))$, which in this case (given above) means:\n",
    "$$g(t) = (x(t)^2-2x(t)+3)/y(t),$$\n",
    "and we can find its derivative with respect to time. I.e. $g$ is a function of time determined by $x$ and $y$, which are also functions of time."
   ]
  },
  {
   "cell_type": "code",
   "execution_count": 9,
   "metadata": {},
   "outputs": [
    {
     "data": {
      "image/png": "[encoded data removed]",
      "text/latex": [
       "$\\displaystyle \\frac{x^{2}{\\left(t \\right)} - 2 x{\\left(t \\right)} + 3}{y{\\left(t \\right)}}$"
      ],
      "text/plain": [
       " 2                \n",
       "x (t) - 2⋅x(t) + 3\n",
       "──────────────────\n",
       "       y(t)       "
      ]
     },
     "execution_count": 9,
     "metadata": {},
     "output_type": "execute_result"
    }
   ],
   "source": [
    "t = sp.symbols('t');\n",
    "xt = sp.Function(\"x\")(t);  # x(t)\n",
    "yt = sp.Function(\"y\")(t)  # y(t)\n",
    "\n",
    "g = f.subs([(x,xt),(y,yt)]); # Define g(t)\n",
    "gp = sp.diff(g,t); # Differentiate g(t) with respect to time\n",
    "g # Print g(t)"
   ]
  },
  {
   "cell_type": "code",
   "execution_count": 10,
   "metadata": {},
   "outputs": [
    {
     "data": {
      "image/png": "[encoded data removed]",
      "text/latex": [
       "$\\displaystyle \\frac{2 x{\\left(t \\right)} \\frac{d}{d t} x{\\left(t \\right)} - 2 \\frac{d}{d t} x{\\left(t \\right)}}{y{\\left(t \\right)}} - \\frac{\\left(x^{2}{\\left(t \\right)} - 2 x{\\left(t \\right)} + 3\\right) \\frac{d}{d t} y{\\left(t \\right)}}{y^{2}{\\left(t \\right)}}$"
      ],
      "text/plain": [
       "       d            d          ⎛ 2                ⎞ d       \n",
       "2⋅x(t)⋅──(x(t)) - 2⋅──(x(t))   ⎝x (t) - 2⋅x(t) + 3⎠⋅──(y(t))\n",
       "       dt           dt                              dt      \n",
       "──────────────────────────── - ─────────────────────────────\n",
       "            y(t)                            2               \n",
       "                                           y (t)            "
      ]
     },
     "execution_count": 10,
     "metadata": {},
     "output_type": "execute_result"
    }
   ],
   "source": [
    "gp # Print g'(t)"
   ]
  },
  {
   "cell_type": "markdown",
   "metadata": {},
   "source": [
    "### Plotting symbolic functions\n",
    "\n",
    "The sympy module also has a `plot` method that knows how to plot symbolic functions of a single variable.  The function `g` above with $x(t) = \\sin(t)$ and $y(t) = \\cos(2t)$ is a function of a single time variable `t`, and can be visualised as follows:"
   ]
  },
  {
   "cell_type": "code",
   "execution_count": 11,
   "metadata": {
    "scrolled": true
   },
   "outputs": [
    {
     "data": {
      "image/png": "[encoded data removed]",
      "text/latex": [
       "$\\displaystyle \\frac{\\sin^{2}{\\left(t \\right)} - 2 \\sin{\\left(t \\right)} + 3}{\\cos{\\left(2 t \\right)}}$"
      ],
      "text/plain": [
       "   2                  \n",
       "sin (t) - 2⋅sin(t) + 3\n",
       "──────────────────────\n",
       "       cos(2⋅t)       "
      ]
     },
     "execution_count": 11,
     "metadata": {},
     "output_type": "execute_result"
    }
   ],
   "source": [
    "gs = g.subs([(xt,sp.sin(t)), (yt,sp.cos(2*t))]); # Create function gs(t)\n",
    "gs"
   ]
  },
  {
   "cell_type": "code",
   "execution_count": 12,
   "metadata": {},
   "outputs": [
    {
     "data": {
      "image/png": "[encoded data removed]",
      "text/plain": [
       "<Figure size 432x288 with 1 Axes>"
      ]
     },
     "metadata": {
      "needs_background": "light"
     },
     "output_type": "display_data"
    }
   ],
   "source": [
    "sp.plot(gs, (t,1,2), xlabel=\"t\", ylabel=\"gs(t)\"); # Plot gs vs t using sympy (t defined from t = 1 to t = 2)"
   ]
  },
  {
   "cell_type": "markdown",
   "metadata": {},
   "source": [
    "A roughly equivalent plot could be obtained numerically by creating a lambda function for the expression, evaluating it for a closely-spaced set of values of `t` over the required range, and using standard numerical plotting functions that draw straight lines between the calulated points.  If you increase the number of calculated points over the interval then the  approximation in the above graph becomes more accurate. You can think of a lambda function as just another way of defining a function, e.g. `f = x^2` is the same as `def my_func(x): x^2`."
   ]
  },
  {
   "cell_type": "code",
   "execution_count": 13,
   "metadata": {
    "scrolled": false
   },
   "outputs": [
    {
     "data": {
      "image/png": "[encoded data removed]",
      "text/plain": [
       "<Figure size 432x288 with 1 Axes>"
      ]
     },
     "metadata": {
      "needs_background": "light"
     },
     "output_type": "display_data"
    }
   ],
   "source": [
    "tv = np.linspace(1, 2, 10); # Axis between tv = 1 and tv = 2 for 10 steps\n",
    "gs_h = sp.lambdify(t, gs, modules=['numpy']);\n",
    "gstv = gs_h(tv);\n",
    "plt.figure(); # New figure\n",
    "plt.plot(tv, gstv);"
   ]
  },
  {
   "cell_type": "markdown",
   "metadata": {},
   "source": [
    "### Symbolic integration\n",
    "\n",
    "Integration is also a standard function in sympy, so we can find for example the integral\n",
    "$$y(t) = \\int_{-10}^t x(\\lambda) d\\lambda$$\n",
    "for $x(t) = e^{-t/10} \\cos(t)$:"
   ]
  },
  {
   "cell_type": "code",
   "execution_count": 14,
   "metadata": {
    "scrolled": true
   },
   "outputs": [
    {
     "data": {
      "image/png": "[encoded data removed]",
      "text/latex": [
       "$\\displaystyle \\frac{100 e \\sin{\\left(10 \\right)}}{101} + \\frac{10 e \\cos{\\left(10 \\right)}}{101} + \\frac{100 e^{- \\frac{t}{10}} \\sin{\\left(t \\right)}}{101} - \\frac{10 e^{- \\frac{t}{10}} \\cos{\\left(t \\right)}}{101}$"
      ],
      "text/plain": [
       "                                    -t               -t        \n",
       "                                    ───              ───       \n",
       "                                     10               10       \n",
       "100⋅ℯ⋅sin(10)   10⋅ℯ⋅cos(10)   100⋅ℯ   ⋅sin(t)   10⋅ℯ   ⋅cos(t)\n",
       "───────────── + ──────────── + ─────────────── - ──────────────\n",
       "     101            101              101              101      "
      ]
     },
     "execution_count": 14,
     "metadata": {},
     "output_type": "execute_result"
    }
   ],
   "source": [
    "xt = sp.exp(-t/10)*sp.cos(t);  # x(t)\n",
    "lamb = sp.symbols('lamb');   # Dummy variable Lambda\n",
    "xl = xt.subs(t,lamb);  # x(lamb)\n",
    "yt = sp.integrate(xl, (lamb, -10, t));  # Indefinite integral that produces a function of t\n",
    "yt # Display y(t)"
   ]
  },
  {
   "cell_type": "markdown",
   "metadata": {},
   "source": [
    "NOTE: To get a definite integral over the range, say -10 to 0, you'd go `yt = sp.integrate(xl, (lamb, -10, 0))`. Also, don't forget about your initial conditions; the definite integral only gives the change in the variable over the\n",
    "interval, so you need to add its initial state to this value get the true final state. We'll usually assume initial rest conditions in this course, but NOT always."
   ]
  },
  {
   "cell_type": "markdown",
   "metadata": {},
   "source": [
    "Overall, the sympy plot function is quite fragile, and might not always work. Symbolic math packages are amazing, but they're difficult to implement and are sometimes not robust: you'll find various postings on the internet that give instances of very good symbolic math engines giving a wrong result. In short, they are useful but you should be careful when using them."
   ]
  },
  {
   "cell_type": "markdown",
   "metadata": {},
   "source": [
    "## Tasks\n",
    "\n",
    "These tasks involve writing code, or modifying existing code, to meet the objectives described.\n",
    "\n",
    "1.  We often need to plot complex-valued signals, where for each value of $t$ there is a real and an imaginary value, or a magnitude and a phase.  We therefore need two sets of axes.  Use the `subplot` functionality of `matplotlib.pyplot` to plot the real and imaginary parts of the signal $x(t) = e^{j \\omega_0 t}$ in a single figure, but on two separate axes.  Use a value of $\\omega_0 = 4$ and make the plot range over $t=0$ to $t=10$. (5 marks)<br><br>\n",
    "\n",
    "2.  Signal processing often involves recursion. This course concentrates on continuous-time signals, but equivalent processes can be applied in the digital (discrete) case. Consider the recursive equation $x[n] = -0.90 x[n-1]$.  Create a numpy array with 100 elements for each of the values $x[0]$ to $x[99]$, and write code to populate it (assuming the initial condition $x[0] = 10$).  Use `stem` to make a plot of $x[n]$ versus $n$ (discrete time) over the range calculated. (5 marks)<br><br>\n",
    "\n",
    "3.  Define the expression $y(t) = v_0 t - \\frac{1}{2} g t^2$ for some symbolic values of $v_0$ and $g$ using sympy.  You should recognise this as the \"altitude\" of a particle moving under the influence of gravity, given that the initial velocity at time $t=0$ is $v_0$.  Make a plot of the particle height in meters for $v_0 = 20 m/s$ given $g = 9.8 m/s^2$, over the range $t=0$ to $t=10$ s. (5 marks)<br><br>\n",
    "\n",
    "4.  Suppose the acceleration of a particle is given by $a(t) = 0.3 + \\cos(t)$ for positive time.  Use symbolic methods to find and plot the velocity $v(t)$ of the particle over the range $t=0$ to $t=5$ given the initial condition $v(0) = -0.2$.  Then find and plot the position $s(t)$ of the particle over the same time period, given the additional auxiliary condition $s(0) = 0.1$. (5 marks)"
   ]
  },
  {
   "cell_type": "code",
   "execution_count": null,
   "metadata": {},
   "outputs": [],
   "source": []
  }
 ],
 "metadata": {
  "anaconda-cloud": {},
  "kernelspec": {
   "display_name": "Python 3",
   "language": "python",
   "name": "python3"
  },
  "language_info": {
   "codemirror_mode": {
    "name": "ipython",
    "version": 3
   },
   "file_extension": ".py",
   "mimetype": "text/x-python",
   "name": "python",
   "nbconvert_exporter": "python",
   "pygments_lexer": "ipython3",
   "version": "3.7.4"
  }
 },
 "nbformat": 4,
 "nbformat_minor": 1
}
